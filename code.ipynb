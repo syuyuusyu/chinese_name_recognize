{
 "cells": [
  {
   "cell_type": "code",
   "execution_count": 1,
   "metadata": {},
   "outputs": [
    {
     "name": "stdout",
     "output_type": "stream",
     "text": [
      "675518 655774\n"
     ]
    }
   ],
   "source": [
    "\n",
    "names = []\n",
    "non_names = []\n",
    "\n",
    "with open('data/names.txt','r') as name_file, open('data/non_names.txt','r') as non_name_file:\n",
    "    for line in name_file:\n",
    "        names.append(line)\n",
    "    for line in non_name_file:\n",
    "        non_names.append(line)\n",
    "\n",
    "print(len(names),len(non_names))"
   ]
  }
 ],
 "metadata": {
  "kernelspec": {
   "display_name": "Python 3",
   "language": "python",
   "name": "python3"
  },
  "language_info": {
   "codemirror_mode": {
    "name": "ipython",
    "version": 3
   },
   "file_extension": ".py",
   "mimetype": "text/x-python",
   "name": "python",
   "nbconvert_exporter": "python",
   "pygments_lexer": "ipython3",
   "version": "3.11.5"
  }
 },
 "nbformat": 4,
 "nbformat_minor": 2
}
