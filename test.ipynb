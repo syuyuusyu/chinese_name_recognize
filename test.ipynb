{
 "cells": [
  {
   "cell_type": "code",
   "execution_count": 8,
   "metadata": {},
   "outputs": [
    {
     "ename": "ImportError",
     "evalue": "cannot import name 'url_quote' from 'werkzeug.urls' (/opt/homebrew/lib/python3.11/site-packages/werkzeug/urls.py)",
     "output_type": "error",
     "traceback": [
      "\u001b[0;31m---------------------------------------------------------------------------\u001b[0m",
      "\u001b[0;31mImportError\u001b[0m                               Traceback (most recent call last)",
      "Cell \u001b[0;32mIn[8], line 3\u001b[0m\n\u001b[1;32m      1\u001b[0m \u001b[38;5;28;01mfrom\u001b[39;00m \u001b[38;5;21;01mname_data\u001b[39;00m \u001b[38;5;28;01mimport\u001b[39;00m pad_sequences\n\u001b[1;32m      2\u001b[0m \u001b[38;5;28;01mimport\u001b[39;00m \u001b[38;5;21;01mtorch\u001b[39;00m\n\u001b[0;32m----> 3\u001b[0m \u001b[38;5;28;01mfrom\u001b[39;00m \u001b[38;5;21;01mwerkzeug\u001b[39;00m\u001b[38;5;21;01m.\u001b[39;00m\u001b[38;5;21;01murls\u001b[39;00m \u001b[38;5;28;01mimport\u001b[39;00m url_quote\n\u001b[1;32m      5\u001b[0m \u001b[38;5;28;01mdef\u001b[39;00m \u001b[38;5;21mname_to_data\u001b[39m(name):\n\u001b[1;32m      6\u001b[0m     code \u001b[38;5;241m=\u001b[39m [ \u001b[38;5;28mord\u001b[39m(char) \u001b[38;5;28;01mfor\u001b[39;00m char \u001b[38;5;129;01min\u001b[39;00m name]\n",
      "\u001b[0;31mImportError\u001b[0m: cannot import name 'url_quote' from 'werkzeug.urls' (/opt/homebrew/lib/python3.11/site-packages/werkzeug/urls.py)"
     ]
    }
   ],
   "source": [
    "from name_data import pad_sequences\n",
    "import torch\n",
    "from werkzeug.urls import url_quote\n",
    "\n",
    "def name_to_data(name):\n",
    "    code = [ ord(char) for char in name]\n",
    "    data = pad_sequences([code], maxlen=5, padding='post')[0]\n",
    "    return torch.tensor(data, dtype=torch.long).unsqueeze(0).to('cpu')\n",
    "\n",
    "model = torch.load('pth/entire_model.pth')\n",
    "model.to('cpu')\n",
    "model.eval()\n",
    "\n",
    "data = name_to_data(\"白鹏\")\n",
    "\n",
    "outputs = model(data)\n",
    "_, predicted = torch.max(outputs, 1)\n",
    "print(predicted.item())\n",
    "\n",
    "print(torch.__version__)\n"
   ]
  }
 ],
 "metadata": {
  "kernelspec": {
   "display_name": "Python 3",
   "language": "python",
   "name": "python3"
  },
  "language_info": {
   "codemirror_mode": {
    "name": "ipython",
    "version": 3
   },
   "file_extension": ".py",
   "mimetype": "text/x-python",
   "name": "python",
   "nbconvert_exporter": "python",
   "pygments_lexer": "ipython3",
   "version": "3.11.5"
  }
 },
 "nbformat": 4,
 "nbformat_minor": 2
}
