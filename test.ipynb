{
 "cells": [
  {
   "cell_type": "code",
   "execution_count": 99,
   "metadata": {},
   "outputs": [
    {
     "name": "stdout",
     "output_type": "stream",
     "text": [
      "1\n"
     ]
    }
   ],
   "source": [
    "from name_data import pad_sequences\n",
    "import torch\n",
    "\n",
    "def name_to_data(name):\n",
    "    code = [ ord(char) for char in name]\n",
    "    data = pad_sequences([code], maxlen=5, padding='post')[0]\n",
    "    return torch.tensor(data, dtype=torch.long).unsqueeze(0).to('cpu')\n",
    "\n",
    "model = torch.load('pth/entire_model.pth')\n",
    "model.to('cpu')\n",
    "model.eval()\n",
    "\n",
    "data = name_to_data(\"白鹏\")\n",
    "\n",
    "outputs = model(data)\n",
    "_, predicted = torch.max(outputs, 1)\n",
    "print(predicted.item())\n",
    "\n",
    "print(torch.__version__)\n"
   ]
  }
 ],
 "metadata": {
  "kernelspec": {
   "display_name": "Python 3",
   "language": "python",
   "name": "python3"
  },
  "language_info": {
   "codemirror_mode": {
    "name": "ipython",
    "version": 3
   },
   "file_extension": ".py",
   "mimetype": "text/x-python",
   "name": "python",
   "nbconvert_exporter": "python",
   "pygments_lexer": "ipython3",
   "version": "3.11.5"
  }
 },
 "nbformat": 4,
 "nbformat_minor": 2
}
